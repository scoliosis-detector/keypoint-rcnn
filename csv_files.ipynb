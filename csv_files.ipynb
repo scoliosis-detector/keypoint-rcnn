{
 "cells": [
  {
   "cell_type": "code",
   "execution_count": 20,
   "metadata": {},
   "outputs": [],
   "source": [
    "import pandas as pd"
   ]
  },
  {
   "cell_type": "code",
   "execution_count": 21,
   "metadata": {},
   "outputs": [
    {
     "data": {
      "text/plain": [
       "['data_all.csv',\n",
       " 'filenames.csv',\n",
       " '척추데이터1 (1~50번).csv',\n",
       " '척추데이터2 (51~100번).csv',\n",
       " '척추데이터3 (101-150번).csv',\n",
       " '척추데이터4 (151~200번).csv']"
      ]
     },
     "execution_count": 21,
     "metadata": {},
     "output_type": "execute_result"
    }
   ],
   "source": [
    "import os\n",
    "files = os.listdir('./datasets')\n",
    "files"
   ]
  },
  {
   "cell_type": "code",
   "execution_count": 22,
   "metadata": {},
   "outputs": [
    {
     "data": {
      "text/html": [
       "<div>\n",
       "<style scoped>\n",
       "    .dataframe tbody tr th:only-of-type {\n",
       "        vertical-align: middle;\n",
       "    }\n",
       "\n",
       "    .dataframe tbody tr th {\n",
       "        vertical-align: top;\n",
       "    }\n",
       "\n",
       "    .dataframe thead th {\n",
       "        text-align: right;\n",
       "    }\n",
       "</style>\n",
       "<table border=\"1\" class=\"dataframe\">\n",
       "  <thead>\n",
       "    <tr style=\"text-align: right;\">\n",
       "      <th></th>\n",
       "      <th>filename</th>\n",
       "      <th>file_size</th>\n",
       "      <th>file_attributes</th>\n",
       "      <th>region_count</th>\n",
       "      <th>region_id</th>\n",
       "      <th>region_shape_attributes</th>\n",
       "      <th>region_attributes</th>\n",
       "    </tr>\n",
       "  </thead>\n",
       "  <tbody>\n",
       "    <tr>\n",
       "      <th>0</th>\n",
       "      <td>척추만곡_0010000.png</td>\n",
       "      <td>6424592</td>\n",
       "      <td>{}</td>\n",
       "      <td>68</td>\n",
       "      <td>0</td>\n",
       "      <td>{\"name\":\"point\",\"cx\":1441,\"cy\":2279}</td>\n",
       "      <td>{}</td>\n",
       "    </tr>\n",
       "    <tr>\n",
       "      <th>1</th>\n",
       "      <td>척추만곡_0010000.png</td>\n",
       "      <td>6424592</td>\n",
       "      <td>{}</td>\n",
       "      <td>68</td>\n",
       "      <td>1</td>\n",
       "      <td>{\"name\":\"point\",\"cx\":1413,\"cy\":2364}</td>\n",
       "      <td>{}</td>\n",
       "    </tr>\n",
       "    <tr>\n",
       "      <th>2</th>\n",
       "      <td>척추만곡_0010000.png</td>\n",
       "      <td>6424592</td>\n",
       "      <td>{}</td>\n",
       "      <td>68</td>\n",
       "      <td>2</td>\n",
       "      <td>{\"name\":\"point\",\"cx\":1619,\"cy\":2346}</td>\n",
       "      <td>{}</td>\n",
       "    </tr>\n",
       "    <tr>\n",
       "      <th>3</th>\n",
       "      <td>척추만곡_0010000.png</td>\n",
       "      <td>6424592</td>\n",
       "      <td>{}</td>\n",
       "      <td>68</td>\n",
       "      <td>3</td>\n",
       "      <td>{\"name\":\"point\",\"cx\":1590,\"cy\":2425}</td>\n",
       "      <td>{}</td>\n",
       "    </tr>\n",
       "    <tr>\n",
       "      <th>4</th>\n",
       "      <td>척추만곡_0010000.png</td>\n",
       "      <td>6424592</td>\n",
       "      <td>{}</td>\n",
       "      <td>68</td>\n",
       "      <td>4</td>\n",
       "      <td>{\"name\":\"point\",\"cx\":1400,\"cy\":2374}</td>\n",
       "      <td>{}</td>\n",
       "    </tr>\n",
       "    <tr>\n",
       "      <th>...</th>\n",
       "      <td>...</td>\n",
       "      <td>...</td>\n",
       "      <td>...</td>\n",
       "      <td>...</td>\n",
       "      <td>...</td>\n",
       "      <td>...</td>\n",
       "      <td>...</td>\n",
       "    </tr>\n",
       "    <tr>\n",
       "      <th>3395</th>\n",
       "      <td>척추만곡_1580000.png</td>\n",
       "      <td>8570557</td>\n",
       "      <td>{}</td>\n",
       "      <td>68</td>\n",
       "      <td>63</td>\n",
       "      <td>{\"name\":\"point\",\"cx\":1451,\"cy\":5312}</td>\n",
       "      <td>{}</td>\n",
       "    </tr>\n",
       "    <tr>\n",
       "      <th>3396</th>\n",
       "      <td>척추만곡_1580000.png</td>\n",
       "      <td>8570557</td>\n",
       "      <td>{}</td>\n",
       "      <td>68</td>\n",
       "      <td>64</td>\n",
       "      <td>{\"name\":\"point\",\"cx\":1115,\"cy\":5454}</td>\n",
       "      <td>{}</td>\n",
       "    </tr>\n",
       "    <tr>\n",
       "      <th>3397</th>\n",
       "      <td>척추만곡_1580000.png</td>\n",
       "      <td>8570557</td>\n",
       "      <td>{}</td>\n",
       "      <td>68</td>\n",
       "      <td>65</td>\n",
       "      <td>{\"name\":\"point\",\"cx\":1171,\"cy\":5635}</td>\n",
       "      <td>{}</td>\n",
       "    </tr>\n",
       "    <tr>\n",
       "      <th>3398</th>\n",
       "      <td>척추만곡_1580000.png</td>\n",
       "      <td>8570557</td>\n",
       "      <td>{}</td>\n",
       "      <td>68</td>\n",
       "      <td>66</td>\n",
       "      <td>{\"name\":\"point\",\"cx\":1479,\"cy\":5362}</td>\n",
       "      <td>{}</td>\n",
       "    </tr>\n",
       "    <tr>\n",
       "      <th>3399</th>\n",
       "      <td>척추만곡_1580000.png</td>\n",
       "      <td>8570557</td>\n",
       "      <td>{}</td>\n",
       "      <td>68</td>\n",
       "      <td>67</td>\n",
       "      <td>{\"name\":\"point\",\"cx\":1541,\"cy\":5556}</td>\n",
       "      <td>{}</td>\n",
       "    </tr>\n",
       "  </tbody>\n",
       "</table>\n",
       "<p>13532 rows × 7 columns</p>\n",
       "</div>"
      ],
      "text/plain": [
       "              filename  file_size file_attributes  region_count  region_id  \\\n",
       "0     척추만곡_0010000.png    6424592              {}            68          0   \n",
       "1     척추만곡_0010000.png    6424592              {}            68          1   \n",
       "2     척추만곡_0010000.png    6424592              {}            68          2   \n",
       "3     척추만곡_0010000.png    6424592              {}            68          3   \n",
       "4     척추만곡_0010000.png    6424592              {}            68          4   \n",
       "...                ...        ...             ...           ...        ...   \n",
       "3395  척추만곡_1580000.png    8570557              {}            68         63   \n",
       "3396  척추만곡_1580000.png    8570557              {}            68         64   \n",
       "3397  척추만곡_1580000.png    8570557              {}            68         65   \n",
       "3398  척추만곡_1580000.png    8570557              {}            68         66   \n",
       "3399  척추만곡_1580000.png    8570557              {}            68         67   \n",
       "\n",
       "                   region_shape_attributes region_attributes  \n",
       "0     {\"name\":\"point\",\"cx\":1441,\"cy\":2279}                {}  \n",
       "1     {\"name\":\"point\",\"cx\":1413,\"cy\":2364}                {}  \n",
       "2     {\"name\":\"point\",\"cx\":1619,\"cy\":2346}                {}  \n",
       "3     {\"name\":\"point\",\"cx\":1590,\"cy\":2425}                {}  \n",
       "4     {\"name\":\"point\",\"cx\":1400,\"cy\":2374}                {}  \n",
       "...                                    ...               ...  \n",
       "3395  {\"name\":\"point\",\"cx\":1451,\"cy\":5312}                {}  \n",
       "3396  {\"name\":\"point\",\"cx\":1115,\"cy\":5454}                {}  \n",
       "3397  {\"name\":\"point\",\"cx\":1171,\"cy\":5635}                {}  \n",
       "3398  {\"name\":\"point\",\"cx\":1479,\"cy\":5362}                {}  \n",
       "3399  {\"name\":\"point\",\"cx\":1541,\"cy\":5556}                {}  \n",
       "\n",
       "[13532 rows x 7 columns]"
      ]
     },
     "execution_count": 22,
     "metadata": {},
     "output_type": "execute_result"
    }
   ],
   "source": [
    "df = pd.DataFrame()\n",
    "\n",
    "tmp1 = pd.read_csv('./datasets/' + files[2])\n",
    "tmp2 = pd.read_csv('./datasets/' + files[3])\n",
    "tmp3 = pd.read_csv('./datasets/' + files[4])\n",
    "tmp4 = pd.read_csv('./datasets/' + files[5])\n",
    "\n",
    "df = pd.concat([tmp1, tmp2, tmp3, tmp4])\n",
    "df"
   ]
  },
  {
   "cell_type": "code",
   "execution_count": 23,
   "metadata": {},
   "outputs": [
    {
     "data": {
      "text/plain": [
       "(13532, 7)"
      ]
     },
     "execution_count": 23,
     "metadata": {},
     "output_type": "execute_result"
    }
   ],
   "source": [
    "df.shape"
   ]
  },
  {
   "cell_type": "code",
   "execution_count": 25,
   "metadata": {},
   "outputs": [
    {
     "data": {
      "text/html": [
       "<div>\n",
       "<style scoped>\n",
       "    .dataframe tbody tr th:only-of-type {\n",
       "        vertical-align: middle;\n",
       "    }\n",
       "\n",
       "    .dataframe tbody tr th {\n",
       "        vertical-align: top;\n",
       "    }\n",
       "\n",
       "    .dataframe thead th {\n",
       "        text-align: right;\n",
       "    }\n",
       "</style>\n",
       "<table border=\"1\" class=\"dataframe\">\n",
       "  <thead>\n",
       "    <tr style=\"text-align: right;\">\n",
       "      <th></th>\n",
       "      <th>filename</th>\n",
       "      <th>file_size</th>\n",
       "      <th>file_attributes</th>\n",
       "      <th>region_count</th>\n",
       "      <th>region_id</th>\n",
       "      <th>region_shape_attributes</th>\n",
       "      <th>region_attributes</th>\n",
       "    </tr>\n",
       "  </thead>\n",
       "  <tbody>\n",
       "    <tr>\n",
       "      <th>13526</th>\n",
       "      <td>척추만곡_2000000.png</td>\n",
       "      <td>7298939</td>\n",
       "      <td>{}</td>\n",
       "      <td>68</td>\n",
       "      <td>54</td>\n",
       "      <td>{\"name\":\"point\",\"cx\":1552,\"cy\":4785}</td>\n",
       "      <td>{}</td>\n",
       "    </tr>\n",
       "    <tr>\n",
       "      <th>13527</th>\n",
       "      <td>척추만곡_2000000.png</td>\n",
       "      <td>7298939</td>\n",
       "      <td>{}</td>\n",
       "      <td>68</td>\n",
       "      <td>53</td>\n",
       "      <td>{\"name\":\"point\",\"cx\":1258,\"cy\":4988}</td>\n",
       "      <td>{}</td>\n",
       "    </tr>\n",
       "    <tr>\n",
       "      <th>13528</th>\n",
       "      <td>척추만곡_2000000.png</td>\n",
       "      <td>7298939</td>\n",
       "      <td>{}</td>\n",
       "      <td>68</td>\n",
       "      <td>52</td>\n",
       "      <td>{\"name\":\"point\",\"cx\":1257,\"cy\":4795}</td>\n",
       "      <td>{}</td>\n",
       "    </tr>\n",
       "    <tr>\n",
       "      <th>13529</th>\n",
       "      <td>척추만곡_2000000.png</td>\n",
       "      <td>7298939</td>\n",
       "      <td>{}</td>\n",
       "      <td>68</td>\n",
       "      <td>59</td>\n",
       "      <td>{\"name\":\"point\",\"cx\":1612,\"cy\":5216}</td>\n",
       "      <td>{}</td>\n",
       "    </tr>\n",
       "    <tr>\n",
       "      <th>13530</th>\n",
       "      <td>척추만곡_2000000.png</td>\n",
       "      <td>7298939</td>\n",
       "      <td>{}</td>\n",
       "      <td>68</td>\n",
       "      <td>67</td>\n",
       "      <td>{\"name\":\"point\",\"cx\":1672,\"cy\":5772}</td>\n",
       "      <td>{}</td>\n",
       "    </tr>\n",
       "  </tbody>\n",
       "</table>\n",
       "</div>"
      ],
      "text/plain": [
       "               filename  file_size file_attributes  region_count  region_id  \\\n",
       "13526  척추만곡_2000000.png    7298939              {}            68         54   \n",
       "13527  척추만곡_2000000.png    7298939              {}            68         53   \n",
       "13528  척추만곡_2000000.png    7298939              {}            68         52   \n",
       "13529  척추만곡_2000000.png    7298939              {}            68         59   \n",
       "13530  척추만곡_2000000.png    7298939              {}            68         67   \n",
       "\n",
       "                    region_shape_attributes region_attributes  \n",
       "13526  {\"name\":\"point\",\"cx\":1552,\"cy\":4785}                {}  \n",
       "13527  {\"name\":\"point\",\"cx\":1258,\"cy\":4988}                {}  \n",
       "13528  {\"name\":\"point\",\"cx\":1257,\"cy\":4795}                {}  \n",
       "13529  {\"name\":\"point\",\"cx\":1612,\"cy\":5216}                {}  \n",
       "13530  {\"name\":\"point\",\"cx\":1672,\"cy\":5772}                {}  "
      ]
     },
     "execution_count": 25,
     "metadata": {},
     "output_type": "execute_result"
    }
   ],
   "source": [
    "df = df[df['filename'] != '척추만곡_1000000.png'].sort_values(by='filename').reset_index(drop=True)\n",
    "df.tail()"
   ]
  },
  {
   "cell_type": "code",
   "execution_count": 26,
   "metadata": {},
   "outputs": [],
   "source": [
    "# 전체 csv \n",
    "df.to_csv('./datasets/data_all.csv', index=False)"
   ]
  },
  {
   "cell_type": "code",
   "execution_count": 27,
   "metadata": {},
   "outputs": [
    {
     "data": {
      "text/html": [
       "<div>\n",
       "<style scoped>\n",
       "    .dataframe tbody tr th:only-of-type {\n",
       "        vertical-align: middle;\n",
       "    }\n",
       "\n",
       "    .dataframe tbody tr th {\n",
       "        vertical-align: top;\n",
       "    }\n",
       "\n",
       "    .dataframe thead th {\n",
       "        text-align: right;\n",
       "    }\n",
       "</style>\n",
       "<table border=\"1\" class=\"dataframe\">\n",
       "  <thead>\n",
       "    <tr style=\"text-align: right;\">\n",
       "      <th></th>\n",
       "      <th>filename</th>\n",
       "      <th>file_size</th>\n",
       "      <th>file_attributes</th>\n",
       "      <th>region_count</th>\n",
       "      <th>region_id</th>\n",
       "      <th>region_shape_attributes</th>\n",
       "      <th>region_attributes</th>\n",
       "    </tr>\n",
       "  </thead>\n",
       "  <tbody>\n",
       "    <tr>\n",
       "      <th>0</th>\n",
       "      <td>척추만곡_0010000.png</td>\n",
       "      <td>6424592</td>\n",
       "      <td>{}</td>\n",
       "      <td>68</td>\n",
       "      <td>0</td>\n",
       "      <td>{\"name\":\"point\",\"cx\":1441,\"cy\":2279}</td>\n",
       "      <td>{}</td>\n",
       "    </tr>\n",
       "    <tr>\n",
       "      <th>1</th>\n",
       "      <td>척추만곡_0010000.png</td>\n",
       "      <td>6424592</td>\n",
       "      <td>{}</td>\n",
       "      <td>68</td>\n",
       "      <td>14</td>\n",
       "      <td>{\"name\":\"point\",\"cx\":1443,\"cy\":2670}</td>\n",
       "      <td>{}</td>\n",
       "    </tr>\n",
       "    <tr>\n",
       "      <th>2</th>\n",
       "      <td>척추만곡_0010000.png</td>\n",
       "      <td>6424592</td>\n",
       "      <td>{}</td>\n",
       "      <td>68</td>\n",
       "      <td>13</td>\n",
       "      <td>{\"name\":\"point\",\"cx\":1247,\"cy\":2739}</td>\n",
       "      <td>{}</td>\n",
       "    </tr>\n",
       "    <tr>\n",
       "      <th>3</th>\n",
       "      <td>척추만곡_0010000.png</td>\n",
       "      <td>6424592</td>\n",
       "      <td>{}</td>\n",
       "      <td>68</td>\n",
       "      <td>12</td>\n",
       "      <td>{\"name\":\"point\",\"cx\":1272,\"cy\":2636}</td>\n",
       "      <td>{}</td>\n",
       "    </tr>\n",
       "    <tr>\n",
       "      <th>4</th>\n",
       "      <td>척추만곡_0010000.png</td>\n",
       "      <td>6424592</td>\n",
       "      <td>{}</td>\n",
       "      <td>68</td>\n",
       "      <td>11</td>\n",
       "      <td>{\"name\":\"point\",\"cx\":1448,\"cy\":2639}</td>\n",
       "      <td>{}</td>\n",
       "    </tr>\n",
       "  </tbody>\n",
       "</table>\n",
       "</div>"
      ],
      "text/plain": [
       "           filename  file_size file_attributes  region_count  region_id  \\\n",
       "0  척추만곡_0010000.png    6424592              {}            68          0   \n",
       "1  척추만곡_0010000.png    6424592              {}            68         14   \n",
       "2  척추만곡_0010000.png    6424592              {}            68         13   \n",
       "3  척추만곡_0010000.png    6424592              {}            68         12   \n",
       "4  척추만곡_0010000.png    6424592              {}            68         11   \n",
       "\n",
       "                region_shape_attributes region_attributes  \n",
       "0  {\"name\":\"point\",\"cx\":1441,\"cy\":2279}                {}  \n",
       "1  {\"name\":\"point\",\"cx\":1443,\"cy\":2670}                {}  \n",
       "2  {\"name\":\"point\",\"cx\":1247,\"cy\":2739}                {}  \n",
       "3  {\"name\":\"point\",\"cx\":1272,\"cy\":2636}                {}  \n",
       "4  {\"name\":\"point\",\"cx\":1448,\"cy\":2639}                {}  "
      ]
     },
     "execution_count": 27,
     "metadata": {},
     "output_type": "execute_result"
    }
   ],
   "source": [
    "df.head()"
   ]
  },
  {
   "cell_type": "code",
   "execution_count": 28,
   "metadata": {},
   "outputs": [
    {
     "data": {
      "text/html": [
       "<div>\n",
       "<style scoped>\n",
       "    .dataframe tbody tr th:only-of-type {\n",
       "        vertical-align: middle;\n",
       "    }\n",
       "\n",
       "    .dataframe tbody tr th {\n",
       "        vertical-align: top;\n",
       "    }\n",
       "\n",
       "    .dataframe thead th {\n",
       "        text-align: right;\n",
       "    }\n",
       "</style>\n",
       "<table border=\"1\" class=\"dataframe\">\n",
       "  <thead>\n",
       "    <tr style=\"text-align: right;\">\n",
       "      <th></th>\n",
       "      <th>filenames</th>\n",
       "    </tr>\n",
       "  </thead>\n",
       "  <tbody>\n",
       "    <tr>\n",
       "      <th>0</th>\n",
       "      <td>vert_001.png</td>\n",
       "    </tr>\n",
       "    <tr>\n",
       "      <th>1</th>\n",
       "      <td>vert_001.png</td>\n",
       "    </tr>\n",
       "    <tr>\n",
       "      <th>2</th>\n",
       "      <td>vert_001.png</td>\n",
       "    </tr>\n",
       "    <tr>\n",
       "      <th>3</th>\n",
       "      <td>vert_001.png</td>\n",
       "    </tr>\n",
       "    <tr>\n",
       "      <th>4</th>\n",
       "      <td>vert_001.png</td>\n",
       "    </tr>\n",
       "  </tbody>\n",
       "</table>\n",
       "</div>"
      ],
      "text/plain": [
       "      filenames\n",
       "0  vert_001.png\n",
       "1  vert_001.png\n",
       "2  vert_001.png\n",
       "3  vert_001.png\n",
       "4  vert_001.png"
      ]
     },
     "execution_count": 28,
     "metadata": {},
     "output_type": "execute_result"
    }
   ],
   "source": [
    "filenames = df['filename'].apply(lambda x: 'vert' + x[4:8] + '.png')\n",
    "df_filenames = pd.DataFrame({'filenames': filenames})\n",
    "df_filenames.head()"
   ]
  },
  {
   "cell_type": "code",
   "execution_count": 29,
   "metadata": {},
   "outputs": [
    {
     "data": {
      "text/html": [
       "<div>\n",
       "<style scoped>\n",
       "    .dataframe tbody tr th:only-of-type {\n",
       "        vertical-align: middle;\n",
       "    }\n",
       "\n",
       "    .dataframe tbody tr th {\n",
       "        vertical-align: top;\n",
       "    }\n",
       "\n",
       "    .dataframe thead th {\n",
       "        text-align: right;\n",
       "    }\n",
       "</style>\n",
       "<table border=\"1\" class=\"dataframe\">\n",
       "  <thead>\n",
       "    <tr style=\"text-align: right;\">\n",
       "      <th></th>\n",
       "      <th>filenames</th>\n",
       "    </tr>\n",
       "  </thead>\n",
       "  <tbody>\n",
       "    <tr>\n",
       "      <th>0</th>\n",
       "      <td>vert_001.png</td>\n",
       "    </tr>\n",
       "    <tr>\n",
       "      <th>1</th>\n",
       "      <td>vert_002.png</td>\n",
       "    </tr>\n",
       "    <tr>\n",
       "      <th>2</th>\n",
       "      <td>vert_003.png</td>\n",
       "    </tr>\n",
       "    <tr>\n",
       "      <th>3</th>\n",
       "      <td>vert_004.png</td>\n",
       "    </tr>\n",
       "    <tr>\n",
       "      <th>4</th>\n",
       "      <td>vert_005.png</td>\n",
       "    </tr>\n",
       "  </tbody>\n",
       "</table>\n",
       "</div>"
      ],
      "text/plain": [
       "      filenames\n",
       "0  vert_001.png\n",
       "1  vert_002.png\n",
       "2  vert_003.png\n",
       "3  vert_004.png\n",
       "4  vert_005.png"
      ]
     },
     "execution_count": 29,
     "metadata": {},
     "output_type": "execute_result"
    }
   ],
   "source": [
    "df_filenames = df_filenames.drop_duplicates().reset_index(drop=True)\n",
    "df_filenames.head()"
   ]
  },
  {
   "cell_type": "code",
   "execution_count": 42,
   "metadata": {},
   "outputs": [
    {
     "data": {
      "text/plain": [
       "(199, 1)"
      ]
     },
     "execution_count": 42,
     "metadata": {},
     "output_type": "execute_result"
    }
   ],
   "source": [
    "df_filenames.shape"
   ]
  },
  {
   "cell_type": "code",
   "execution_count": 31,
   "metadata": {},
   "outputs": [],
   "source": [
    "df_filenames.to_csv('./datasets/filenames.csv', index=False)"
   ]
  },
  {
   "cell_type": "code",
   "execution_count": 43,
   "metadata": {},
   "outputs": [
    {
     "data": {
      "text/plain": [
       "(199, 1)"
      ]
     },
     "execution_count": 43,
     "metadata": {},
     "output_type": "execute_result"
    }
   ],
   "source": [
    "pd.read_csv('./datasets/filenames.csv').shape"
   ]
  },
  {
   "cell_type": "markdown",
   "metadata": {},
   "source": [
    "filenames"
   ]
  },
  {
   "cell_type": "code",
   "execution_count": 51,
   "metadata": {},
   "outputs": [
    {
     "data": {
      "text/plain": [
       "(119, 1)"
      ]
     },
     "execution_count": 51,
     "metadata": {},
     "output_type": "execute_result"
    }
   ],
   "source": [
    "fname_train = df_filenames.iloc[:119]\n",
    "fname_train.shape"
   ]
  },
  {
   "cell_type": "code",
   "execution_count": 52,
   "metadata": {},
   "outputs": [
    {
     "data": {
      "text/plain": [
       "(40, 1)"
      ]
     },
     "execution_count": 52,
     "metadata": {},
     "output_type": "execute_result"
    }
   ],
   "source": [
    "fname_valid = df_filenames.iloc[119:159]\n",
    "fname_valid.shape"
   ]
  },
  {
   "cell_type": "code",
   "execution_count": 53,
   "metadata": {},
   "outputs": [
    {
     "data": {
      "text/plain": [
       "(40, 1)"
      ]
     },
     "execution_count": 53,
     "metadata": {},
     "output_type": "execute_result"
    }
   ],
   "source": [
    "fname_test = df_filenames.iloc[159:]\n",
    "fname_test.shape"
   ]
  },
  {
   "cell_type": "code",
   "execution_count": 54,
   "metadata": {},
   "outputs": [],
   "source": [
    "fname_train.to_csv('./datasets/train_fname.csv', index=False)\n",
    "fname_valid.to_csv('./datasets/valid_fname.csv', index=False)\n",
    "fname_test.to_csv('./datasets/test_fname.csv', index=False)"
   ]
  },
  {
   "cell_type": "markdown",
   "metadata": {},
   "source": [
    "landmarks"
   ]
  },
  {
   "cell_type": "code",
   "execution_count": 55,
   "metadata": {},
   "outputs": [
    {
     "data": {
      "text/plain": [
       "(199, 2)"
      ]
     },
     "execution_count": 55,
     "metadata": {},
     "output_type": "execute_result"
    }
   ],
   "source": [
    "landmarks = pd.read_csv('./datasets/landmarks.csv')\n",
    "landmarks.shape"
   ]
  },
  {
   "cell_type": "code",
   "execution_count": 56,
   "metadata": {},
   "outputs": [
    {
     "data": {
      "text/html": [
       "<div>\n",
       "<style scoped>\n",
       "    .dataframe tbody tr th:only-of-type {\n",
       "        vertical-align: middle;\n",
       "    }\n",
       "\n",
       "    .dataframe tbody tr th {\n",
       "        vertical-align: top;\n",
       "    }\n",
       "\n",
       "    .dataframe thead th {\n",
       "        text-align: right;\n",
       "    }\n",
       "</style>\n",
       "<table border=\"1\" class=\"dataframe\">\n",
       "  <thead>\n",
       "    <tr style=\"text-align: right;\">\n",
       "      <th></th>\n",
       "      <th>filename</th>\n",
       "      <th>landmarks</th>\n",
       "    </tr>\n",
       "  </thead>\n",
       "  <tbody>\n",
       "    <tr>\n",
       "      <th>0</th>\n",
       "      <td>vert_001</td>\n",
       "      <td>1441, 1413, 1619, 1590, 1400, 1364, 1562, 1524...</td>\n",
       "    </tr>\n",
       "    <tr>\n",
       "      <th>1</th>\n",
       "      <td>vert_002</td>\n",
       "      <td>1330, 1347, 1527, 1546, 1366, 1385, 1554, 1578...</td>\n",
       "    </tr>\n",
       "    <tr>\n",
       "      <th>2</th>\n",
       "      <td>vert_003</td>\n",
       "      <td>1232, 1221, 1427, 1420, 1244, 1230, 1405, 1398...</td>\n",
       "    </tr>\n",
       "    <tr>\n",
       "      <th>3</th>\n",
       "      <td>vert_004</td>\n",
       "      <td>1417, 1407, 1607, 1585, 1402, 1377, 1569, 1557...</td>\n",
       "    </tr>\n",
       "    <tr>\n",
       "      <th>4</th>\n",
       "      <td>vert_005</td>\n",
       "      <td>1561, 1555, 1757, 1759, 1563, 1553, 1751, 1745...</td>\n",
       "    </tr>\n",
       "  </tbody>\n",
       "</table>\n",
       "</div>"
      ],
      "text/plain": [
       "   filename                                          landmarks\n",
       "0  vert_001  1441, 1413, 1619, 1590, 1400, 1364, 1562, 1524...\n",
       "1  vert_002  1330, 1347, 1527, 1546, 1366, 1385, 1554, 1578...\n",
       "2  vert_003  1232, 1221, 1427, 1420, 1244, 1230, 1405, 1398...\n",
       "3  vert_004  1417, 1407, 1607, 1585, 1402, 1377, 1569, 1557...\n",
       "4  vert_005  1561, 1555, 1757, 1759, 1563, 1553, 1751, 1745..."
      ]
     },
     "execution_count": 56,
     "metadata": {},
     "output_type": "execute_result"
    }
   ],
   "source": [
    "landmarks.head()"
   ]
  },
  {
   "cell_type": "code",
   "execution_count": 57,
   "metadata": {},
   "outputs": [
    {
     "data": {
      "text/plain": [
       "(119, 2)"
      ]
     },
     "execution_count": 57,
     "metadata": {},
     "output_type": "execute_result"
    }
   ],
   "source": [
    "landmark_train = landmarks.iloc[:119]\n",
    "landmark_train.shape"
   ]
  },
  {
   "cell_type": "code",
   "execution_count": 58,
   "metadata": {},
   "outputs": [
    {
     "data": {
      "text/plain": [
       "(40, 2)"
      ]
     },
     "execution_count": 58,
     "metadata": {},
     "output_type": "execute_result"
    }
   ],
   "source": [
    "landmark_valid = landmarks.iloc[119:159]\n",
    "landmark_valid.shape"
   ]
  },
  {
   "cell_type": "code",
   "execution_count": 59,
   "metadata": {},
   "outputs": [
    {
     "data": {
      "text/plain": [
       "(40, 2)"
      ]
     },
     "execution_count": 59,
     "metadata": {},
     "output_type": "execute_result"
    }
   ],
   "source": [
    "landmark_test = landmarks.iloc[159:]\n",
    "landmark_test.shape"
   ]
  },
  {
   "cell_type": "code",
   "execution_count": 60,
   "metadata": {},
   "outputs": [],
   "source": [
    "landmark_train.to_csv('./datasets/train_landmark.csv', index=False)\n",
    "landmark_valid.to_csv('./datasets/valid_landmark.csv', index=False)\n",
    "landmark_test.to_csv('./datasets/test_landmark.csv', index=False)"
   ]
  },
  {
   "cell_type": "code",
   "execution_count": 6,
   "metadata": {},
   "outputs": [
    {
     "data": {
      "text/plain": [
       "136"
      ]
     },
     "execution_count": 6,
     "metadata": {},
     "output_type": "execute_result"
    }
   ],
   "source": [
    "t = \"1441, 1413, 1619, 1590, 1400, 1364, 1562, 1524, 1335, 1284, 1488, 1448, 1272, 1247, 1443, 1455, 1266, 1313, 1455, 1500, 1337, 1392, 1524, 1576, 1410, 1466, 1599, 1662, 1476, 1504, 1674, 1724, 1518, 1514, 1727, 1741, 1529, 1515, 1749, 1748, 1512, 1484, 1743, 1741, 1482, 1453, 1742, 1727, 1445, 1415, 1715, 1692, 1405, 1377, 1689, 1665, 1357, 1337, 1657, 1657, 1336, 1337, 1657, 1663, 1341, 1358, 1681, 1665, 2279, 2364, 2346, 2425, 2374, 2462, 2446, 2530, 2507, 2589, 2559, 2639, 2636, 2739, 2670, 2768, 2879, 2999, 2815, 2943, 3040, 3166, 2980, 3081, 3195, 3321, 3117, 3252, 3365, 3487, 3292, 3448, 3530, 3653, 3497, 3642, 3692, 3837, 3703, 3865, 3896, 4047, 3908, 4070, 4111, 4282, 4138, 4318, 4339, 4517, 4373, 4560, 4594, 4773, 4632, 4808, 4849, 5045, 4877, 5061, 5140, 5340, 5131, 5306, 5426, 5588, 5385, 5545\"\n",
    "tt = [int(x.strip()) for x in t.split(',')]\n",
    "len(tt)"
   ]
  },
  {
   "cell_type": "code",
   "execution_count": 7,
   "metadata": {},
   "outputs": [],
   "source": [
    "def split_XY(landmarks):\n",
    "    first_half = landmarks[:68]\n",
    "    second_half = landmarks[68:]\n",
    "    return (first_half, second_half)"
   ]
  },
  {
   "cell_type": "code",
   "execution_count": 9,
   "metadata": {},
   "outputs": [],
   "source": [
    "x, y = split_XY(tt)"
   ]
  },
  {
   "cell_type": "code",
   "execution_count": 10,
   "metadata": {},
   "outputs": [
    {
     "name": "stdout",
     "output_type": "stream",
     "text": [
      "[1441, 1413, 1619, 1590, 1400, 1364, 1562, 1524, 1335, 1284, 1488, 1448, 1272, 1247, 1443, 1455, 1266, 1313, 1455, 1500, 1337, 1392, 1524, 1576, 1410, 1466, 1599, 1662, 1476, 1504, 1674, 1724, 1518, 1514, 1727, 1741, 1529, 1515, 1749, 1748, 1512, 1484, 1743, 1741, 1482, 1453, 1742, 1727, 1445, 1415, 1715, 1692, 1405, 1377, 1689, 1665, 1357, 1337, 1657, 1657, 1336, 1337, 1657, 1663, 1341, 1358, 1681, 1665]\n",
      "[2279, 2364, 2346, 2425, 2374, 2462, 2446, 2530, 2507, 2589, 2559, 2639, 2636, 2739, 2670, 2768, 2879, 2999, 2815, 2943, 3040, 3166, 2980, 3081, 3195, 3321, 3117, 3252, 3365, 3487, 3292, 3448, 3530, 3653, 3497, 3642, 3692, 3837, 3703, 3865, 3896, 4047, 3908, 4070, 4111, 4282, 4138, 4318, 4339, 4517, 4373, 4560, 4594, 4773, 4632, 4808, 4849, 5045, 4877, 5061, 5140, 5340, 5131, 5306, 5426, 5588, 5385, 5545]\n"
     ]
    }
   ],
   "source": [
    "print(x)\n",
    "print(y)"
   ]
  },
  {
   "cell_type": "code",
   "execution_count": null,
   "metadata": {},
   "outputs": [],
   "source": []
  },
  {
   "cell_type": "code",
   "execution_count": 1,
   "metadata": {},
   "outputs": [
    {
     "name": "stdout",
     "output_type": "stream",
     "text": [
      "CUDA available: False\n"
     ]
    }
   ],
   "source": [
    "import torch\n",
    "print(\"CUDA available:\", torch.cuda.is_available())"
   ]
  },
  {
   "cell_type": "code",
   "execution_count": 1,
   "metadata": {},
   "outputs": [
    {
     "name": "stdout",
     "output_type": "stream",
     "text": [
      "CUDA available: True\n",
      "CUDA version: 11.8\n",
      "Number of GPUs: 1\n",
      "Device name: NVIDIA GeForce RTX 3050\n"
     ]
    }
   ],
   "source": [
    "import torch\n",
    "print(\"CUDA available:\", torch.cuda.is_available())\n",
    "print(\"CUDA version:\", torch.version.cuda)\n",
    "print(\"Number of GPUs:\", torch.cuda.device_count())\n",
    "if torch.cuda.is_available():\n",
    "    print(\"Device name:\", torch.cuda.get_device_name(0))"
   ]
  },
  {
   "cell_type": "code",
   "execution_count": null,
   "metadata": {},
   "outputs": [],
   "source": []
  },
  {
   "cell_type": "code",
   "execution_count": 2,
   "metadata": {},
   "outputs": [],
   "source": [
    "label = [[[1315, 2257, 1], [1303, 2337, 1], [1497, 2258, 1], [1510, 2327, 1]], [[1334, 2374, 1], [1325, 2448, 1], [1497, 2377, 1], [1503, 2448, 1]], [[1335, 2493, 1], [1328, 2565, 1], [1508, 2494, 1], [1518, 2559, 1]], [[1345, 2595, 1], [1335, 2704, 1], [1504, 2599, 1], [1507, 2693, 1]], [[1361, 2740, 1], [1337, 2850, 1], [1525, 2752, 1], [1533, 2846, 1]], [[1356, 2907, 1], [1341, 3026, 1], [1529, 2894, 1], [1551, 2998, 1]], [[1351, 3079, 1], [1320, 3198, 1], [1541, 3077, 1], [1554, 3194, 1]], [[1346, 3247, 1], [1318, 3380, 1], [1544, 3255, 1], [1571, 3364, 1]], [[1344, 3429, 1], [1319, 3555, 1], [1551, 3430, 1], [1573, 3558, 1]], [[1341, 3602, 1], [1313, 3725, 1], [1558, 3628, 1], [1562, 3754, 1]], [[1318, 3781, 1], [1268, 3911, 1], [1537, 3818, 1], [1528, 3958, 1]], [[1264, 3969, 1], [1221, 4122, 1], [1491, 4024, 1], [1489, 4164, 1]], [[1207, 4193, 1], [1177, 4369, 1], [1475, 4229, 1], [1472, 4387, 1]], [[1187, 4450, 1], [1197, 4620, 1], [1452, 4427, 1], [1477, 4570, 1]], [[1217, 4697, 1], [1250, 4871, 1], [1486, 4645, 1], [1531, 4781, 1]], [[1267, 4936, 1], [1304, 5099, 1], [1561, 4861, 1], [1613, 5010, 1]], [[1334, 5161, 1], [1343, 5323, 1], [1632, 5125, 1], [1679, 5290, 1]]]\n",
    "predict = [[[1303, 2234], [1303, 2356], [1520, 2260], [1520, 2356]], [[1304, 2368], [1304, 2476], [1500, 2368], [1516, 2476]], [[1312, 2459], [1312, 2562], [1505, 2459], [1521, 2562]], [[1321, 2587], [1321, 2694], [1512, 2587], [1528, 2694]], [[1326, 2711], [1326, 2817], [1517, 2711], [1533, 2817]], [[1334, 2913], [1334, 3022], [1540, 2913], [1555, 3022]], [[1330, 3056], [1330, 3177], [1550, 3056], [1571, 3177]], [[1331, 3242], [1331, 3369], [1557, 3242], [1557, 3369]], [[1344, 3432], [1328, 3557], [1559, 3432], [1574, 3557]], [[1343, 3616], [1306, 3751], [1551, 3616], [1561, 3751]], [[1311, 3782], [1270, 3923], [1542, 3819], [1521, 3950]], [[1246, 3973], [1209, 4164], [1507, 4015], [1507, 4164]], [[1201, 4215], [1175, 4386], [1473, 4230], [1473, 4386]], [[1171, 4460], [1171, 4578], [1452, 4414], [1473, 4578]], [[1219, 4686], [1219, 4814], [1492, 4634], [1528, 4778]], [[1264, 4921], [1295, 5093], [1566, 4858], [1613, 5025]], [[1284, 5135], [1284, 5300], [1629, 5073], [1686, 5222]]]"
   ]
  },
  {
   "cell_type": "code",
   "execution_count": 3,
   "metadata": {},
   "outputs": [
    {
     "data": {
      "text/plain": [
       "[[[1315, 2257], [1303, 2337], [1497, 2258], [1510, 2327]],\n",
       " [[1334, 2374], [1325, 2448], [1497, 2377], [1503, 2448]],\n",
       " [[1335, 2493], [1328, 2565], [1508, 2494], [1518, 2559]],\n",
       " [[1345, 2595], [1335, 2704], [1504, 2599], [1507, 2693]],\n",
       " [[1361, 2740], [1337, 2850], [1525, 2752], [1533, 2846]],\n",
       " [[1356, 2907], [1341, 3026], [1529, 2894], [1551, 2998]],\n",
       " [[1351, 3079], [1320, 3198], [1541, 3077], [1554, 3194]],\n",
       " [[1346, 3247], [1318, 3380], [1544, 3255], [1571, 3364]],\n",
       " [[1344, 3429], [1319, 3555], [1551, 3430], [1573, 3558]],\n",
       " [[1341, 3602], [1313, 3725], [1558, 3628], [1562, 3754]],\n",
       " [[1318, 3781], [1268, 3911], [1537, 3818], [1528, 3958]],\n",
       " [[1264, 3969], [1221, 4122], [1491, 4024], [1489, 4164]],\n",
       " [[1207, 4193], [1177, 4369], [1475, 4229], [1472, 4387]],\n",
       " [[1187, 4450], [1197, 4620], [1452, 4427], [1477, 4570]],\n",
       " [[1217, 4697], [1250, 4871], [1486, 4645], [1531, 4781]],\n",
       " [[1267, 4936], [1304, 5099], [1561, 4861], [1613, 5010]],\n",
       " [[1334, 5161], [1343, 5323], [1632, 5125], [1679, 5290]]]"
      ]
     },
     "execution_count": 3,
     "metadata": {},
     "output_type": "execute_result"
    }
   ],
   "source": [
    "for l in label:\n",
    "    for ll in l:\n",
    "        ll.pop()\n",
    "label"
   ]
  },
  {
   "cell_type": "code",
   "execution_count": 5,
   "metadata": {},
   "outputs": [
    {
     "name": "stdout",
     "output_type": "stream",
     "text": [
      "no no no no no no no no no no no no no no no no no no no no no no no no no no no no no no no no no no no no no no no no no no no no no no no no no no no no no no no no no no no no no no no no no no no no "
     ]
    }
   ],
   "source": [
    "for l, p in zip(label, predict):\n",
    "    for ll, pp in zip(l, p):\n",
    "        if ll == pp:\n",
    "            print('label: {ll}\\t, predict: {pp}')\n",
    "        else:\n",
    "            print('no', end=' ')"
   ]
  },
  {
   "cell_type": "code",
   "execution_count": null,
   "metadata": {},
   "outputs": [],
   "source": []
  },
  {
   "cell_type": "code",
   "execution_count": 1,
   "metadata": {},
   "outputs": [
    {
     "name": "stdout",
     "output_type": "stream",
     "text": [
      "c:\\Users\\USER\\anaconda3\\envs\\scoliosis\\lib\\site-packages\\PIL\\__init__.py\n"
     ]
    }
   ],
   "source": [
    "import PIL\n",
    "print(PIL.__file__)"
   ]
  },
  {
   "cell_type": "code",
   "execution_count": null,
   "metadata": {},
   "outputs": [],
   "source": []
  },
  {
   "cell_type": "code",
   "execution_count": 6,
   "metadata": {},
   "outputs": [
    {
     "name": "stdout",
     "output_type": "stream",
     "text": [
      "loading annotations into memory...\n",
      "Done (t=0.00s)\n",
      "creating index...\n",
      "index created!\n"
     ]
    },
    {
     "ename": "TypeError",
     "evalue": "object of type 'COCO' has no len()",
     "output_type": "error",
     "traceback": [
      "\u001b[1;31m---------------------------------------------------------------------------\u001b[0m",
      "\u001b[1;31mTypeError\u001b[0m                                 Traceback (most recent call last)",
      "Cell \u001b[1;32mIn[6], line 79\u001b[0m\n\u001b[0;32m     76\u001b[0m data_loader \u001b[38;5;241m=\u001b[39m DataLoader(coco, batch_size\u001b[38;5;241m=\u001b[39m\u001b[38;5;241m1\u001b[39m, shuffle\u001b[38;5;241m=\u001b[39m\u001b[38;5;28;01mFalse\u001b[39;00m)  \u001b[38;5;66;03m# Custom Dataset class 필요\u001b[39;00m\n\u001b[0;32m     78\u001b[0m \u001b[38;5;66;03m# 모델 평가\u001b[39;00m\n\u001b[1;32m---> 79\u001b[0m results \u001b[38;5;241m=\u001b[39m \u001b[43mevaluate_keypoint_model\u001b[49m\u001b[43m(\u001b[49m\u001b[43mmodel\u001b[49m\u001b[43m,\u001b[49m\u001b[43m \u001b[49m\u001b[43mdata_loader\u001b[49m\u001b[43m,\u001b[49m\u001b[43m \u001b[49m\u001b[43mdevice\u001b[49m\u001b[43m)\u001b[49m\n\u001b[0;32m     81\u001b[0m \u001b[38;5;66;03m# COCO 평가\u001b[39;00m\n\u001b[0;32m     82\u001b[0m evaluate_coco(results, annotation_file)\n",
      "Cell \u001b[1;32mIn[6], line 32\u001b[0m, in \u001b[0;36mevaluate_keypoint_model\u001b[1;34m(model, data_loader, device)\u001b[0m\n\u001b[0;32m     29\u001b[0m \u001b[38;5;28;01mdef\u001b[39;00m \u001b[38;5;21mevaluate_keypoint_model\u001b[39m(model, data_loader, device):\n\u001b[0;32m     30\u001b[0m     results \u001b[38;5;241m=\u001b[39m []\n\u001b[1;32m---> 32\u001b[0m     \u001b[38;5;28;01mfor\u001b[39;00m images, targets \u001b[38;5;129;01min\u001b[39;00m data_loader:\n\u001b[0;32m     33\u001b[0m         images \u001b[38;5;241m=\u001b[39m \u001b[38;5;28mlist\u001b[39m(img\u001b[38;5;241m.\u001b[39mto(device) \u001b[38;5;28;01mfor\u001b[39;00m img \u001b[38;5;129;01min\u001b[39;00m images)\n\u001b[0;32m     35\u001b[0m         \u001b[38;5;28;01mwith\u001b[39;00m torch\u001b[38;5;241m.\u001b[39mno_grad():\n",
      "File \u001b[1;32mc:\\Users\\USER\\anaconda3\\envs\\scoliosis\\lib\\site-packages\\torch\\utils\\data\\dataloader.py:701\u001b[0m, in \u001b[0;36m_BaseDataLoaderIter.__next__\u001b[1;34m(self)\u001b[0m\n\u001b[0;32m    698\u001b[0m \u001b[38;5;28;01mif\u001b[39;00m \u001b[38;5;28mself\u001b[39m\u001b[38;5;241m.\u001b[39m_sampler_iter \u001b[38;5;129;01mis\u001b[39;00m \u001b[38;5;28;01mNone\u001b[39;00m:\n\u001b[0;32m    699\u001b[0m     \u001b[38;5;66;03m# TODO(https://github.com/pytorch/pytorch/issues/76750)\u001b[39;00m\n\u001b[0;32m    700\u001b[0m     \u001b[38;5;28mself\u001b[39m\u001b[38;5;241m.\u001b[39m_reset()  \u001b[38;5;66;03m# type: ignore[call-arg]\u001b[39;00m\n\u001b[1;32m--> 701\u001b[0m data \u001b[38;5;241m=\u001b[39m \u001b[38;5;28;43mself\u001b[39;49m\u001b[38;5;241;43m.\u001b[39;49m\u001b[43m_next_data\u001b[49m\u001b[43m(\u001b[49m\u001b[43m)\u001b[49m\n\u001b[0;32m    702\u001b[0m \u001b[38;5;28mself\u001b[39m\u001b[38;5;241m.\u001b[39m_num_yielded \u001b[38;5;241m+\u001b[39m\u001b[38;5;241m=\u001b[39m \u001b[38;5;241m1\u001b[39m\n\u001b[0;32m    703\u001b[0m \u001b[38;5;28;01mif\u001b[39;00m (\n\u001b[0;32m    704\u001b[0m     \u001b[38;5;28mself\u001b[39m\u001b[38;5;241m.\u001b[39m_dataset_kind \u001b[38;5;241m==\u001b[39m _DatasetKind\u001b[38;5;241m.\u001b[39mIterable\n\u001b[0;32m    705\u001b[0m     \u001b[38;5;129;01mand\u001b[39;00m \u001b[38;5;28mself\u001b[39m\u001b[38;5;241m.\u001b[39m_IterableDataset_len_called \u001b[38;5;129;01mis\u001b[39;00m \u001b[38;5;129;01mnot\u001b[39;00m \u001b[38;5;28;01mNone\u001b[39;00m\n\u001b[0;32m    706\u001b[0m     \u001b[38;5;129;01mand\u001b[39;00m \u001b[38;5;28mself\u001b[39m\u001b[38;5;241m.\u001b[39m_num_yielded \u001b[38;5;241m>\u001b[39m \u001b[38;5;28mself\u001b[39m\u001b[38;5;241m.\u001b[39m_IterableDataset_len_called\n\u001b[0;32m    707\u001b[0m ):\n",
      "File \u001b[1;32mc:\\Users\\USER\\anaconda3\\envs\\scoliosis\\lib\\site-packages\\torch\\utils\\data\\dataloader.py:756\u001b[0m, in \u001b[0;36m_SingleProcessDataLoaderIter._next_data\u001b[1;34m(self)\u001b[0m\n\u001b[0;32m    755\u001b[0m \u001b[38;5;28;01mdef\u001b[39;00m \u001b[38;5;21m_next_data\u001b[39m(\u001b[38;5;28mself\u001b[39m):\n\u001b[1;32m--> 756\u001b[0m     index \u001b[38;5;241m=\u001b[39m \u001b[38;5;28;43mself\u001b[39;49m\u001b[38;5;241;43m.\u001b[39;49m\u001b[43m_next_index\u001b[49m\u001b[43m(\u001b[49m\u001b[43m)\u001b[49m  \u001b[38;5;66;03m# may raise StopIteration\u001b[39;00m\n\u001b[0;32m    757\u001b[0m     data \u001b[38;5;241m=\u001b[39m \u001b[38;5;28mself\u001b[39m\u001b[38;5;241m.\u001b[39m_dataset_fetcher\u001b[38;5;241m.\u001b[39mfetch(index)  \u001b[38;5;66;03m# may raise StopIteration\u001b[39;00m\n\u001b[0;32m    758\u001b[0m     \u001b[38;5;28;01mif\u001b[39;00m \u001b[38;5;28mself\u001b[39m\u001b[38;5;241m.\u001b[39m_pin_memory:\n",
      "File \u001b[1;32mc:\\Users\\USER\\anaconda3\\envs\\scoliosis\\lib\\site-packages\\torch\\utils\\data\\dataloader.py:691\u001b[0m, in \u001b[0;36m_BaseDataLoaderIter._next_index\u001b[1;34m(self)\u001b[0m\n\u001b[0;32m    690\u001b[0m \u001b[38;5;28;01mdef\u001b[39;00m \u001b[38;5;21m_next_index\u001b[39m(\u001b[38;5;28mself\u001b[39m):\n\u001b[1;32m--> 691\u001b[0m     \u001b[38;5;28;01mreturn\u001b[39;00m \u001b[38;5;28;43mnext\u001b[39;49m\u001b[43m(\u001b[49m\u001b[38;5;28;43mself\u001b[39;49m\u001b[38;5;241;43m.\u001b[39;49m\u001b[43m_sampler_iter\u001b[49m\u001b[43m)\u001b[49m\n",
      "File \u001b[1;32mc:\\Users\\USER\\anaconda3\\envs\\scoliosis\\lib\\site-packages\\torch\\utils\\data\\sampler.py:347\u001b[0m, in \u001b[0;36mBatchSampler.__iter__\u001b[1;34m(self)\u001b[0m\n\u001b[0;32m    345\u001b[0m batch \u001b[38;5;241m=\u001b[39m [\u001b[38;5;241m0\u001b[39m] \u001b[38;5;241m*\u001b[39m \u001b[38;5;28mself\u001b[39m\u001b[38;5;241m.\u001b[39mbatch_size\n\u001b[0;32m    346\u001b[0m idx_in_batch \u001b[38;5;241m=\u001b[39m \u001b[38;5;241m0\u001b[39m\n\u001b[1;32m--> 347\u001b[0m \u001b[38;5;28;01mfor\u001b[39;00m idx \u001b[38;5;129;01min\u001b[39;00m \u001b[38;5;28mself\u001b[39m\u001b[38;5;241m.\u001b[39msampler:\n\u001b[0;32m    348\u001b[0m     batch[idx_in_batch] \u001b[38;5;241m=\u001b[39m idx\n\u001b[0;32m    349\u001b[0m     idx_in_batch \u001b[38;5;241m+\u001b[39m\u001b[38;5;241m=\u001b[39m \u001b[38;5;241m1\u001b[39m\n",
      "File \u001b[1;32mc:\\Users\\USER\\anaconda3\\envs\\scoliosis\\lib\\site-packages\\torch\\utils\\data\\sampler.py:125\u001b[0m, in \u001b[0;36mSequentialSampler.__iter__\u001b[1;34m(self)\u001b[0m\n\u001b[0;32m    124\u001b[0m \u001b[38;5;28;01mdef\u001b[39;00m \u001b[38;5;21m__iter__\u001b[39m(\u001b[38;5;28mself\u001b[39m) \u001b[38;5;241m-\u001b[39m\u001b[38;5;241m>\u001b[39m Iterator[\u001b[38;5;28mint\u001b[39m]:\n\u001b[1;32m--> 125\u001b[0m     \u001b[38;5;28;01mreturn\u001b[39;00m \u001b[38;5;28miter\u001b[39m(\u001b[38;5;28mrange\u001b[39m(\u001b[38;5;28;43mlen\u001b[39;49m\u001b[43m(\u001b[49m\u001b[38;5;28;43mself\u001b[39;49m\u001b[38;5;241;43m.\u001b[39;49m\u001b[43mdata_source\u001b[49m\u001b[43m)\u001b[49m))\n",
      "\u001b[1;31mTypeError\u001b[0m: object of type 'COCO' has no len()"
     ]
    }
   ],
   "source": [
    "import torch\n",
    "from torchvision import models\n",
    "from pycocotools.coco import COCO\n",
    "from pycocotools.cocoeval import COCOeval\n",
    "from torch.utils.data import DataLoader\n",
    "from torchvision.models.detection.rpn import AnchorGenerator\n",
    "\n",
    "# 모델 불러오기\n",
    "def load_model(model_path, device):\n",
    "    # model = models.detection.keypoint_rcnn.KeypointRCNN(backbone='resnet50', num_classes=91)  # num_classes는 데이터에 맞게 조정\n",
    "    anchor_generator = AnchorGenerator(sizes=(32, 64, 128, 256, 512), aspect_ratios=(0.25, 0.5, 0.75, 1.0, 2.0, 3.0, 4.0))\n",
    "    model = models.detection.keypointrcnn_resnet50_fpn(pretrained=False,\n",
    "                                                        pretrained_backbone=True,\n",
    "                                                        num_keypoints=4,\n",
    "                                                        num_classes = 2, # Background is the first class, object is the second class\n",
    "                                                        rpn_anchor_generator=anchor_generator)\n",
    "    model.load_state_dict(torch.load(model_path, map_location=device, weights_only=True))\n",
    "    model.to(device)\n",
    "    model.eval()\n",
    "    return model\n",
    "\n",
    "# 데이터셋 로드 (COCO 형식)\n",
    "def load_coco_dataset(annotation_file, image_dir):\n",
    "    coco = COCO(annotation_file)\n",
    "    # Custom dataset class를 정의해야 할 수 있습니다.\n",
    "    return coco\n",
    "\n",
    "# 모델 평가\n",
    "def evaluate_keypoint_model(model, data_loader, device):\n",
    "    results = []\n",
    "\n",
    "    for images, targets in data_loader:\n",
    "        images = list(img.to(device) for img in images)\n",
    "\n",
    "        with torch.no_grad():\n",
    "            outputs = model(images)\n",
    "\n",
    "        for i in range(len(images)):\n",
    "            keypoints = outputs[i]['keypoints'].cpu().numpy()\n",
    "            scores = outputs[i]['scores'].cpu().numpy()\n",
    "            image_id = targets[i]['image_id'].item()\n",
    "\n",
    "            for j in range(len(keypoints)):\n",
    "                if scores[j] > 0.5:  # Confidence threshold\n",
    "                    result = {\n",
    "                        'image_id': image_id,\n",
    "                        'keypoints': keypoints[j].flatten().tolist(),\n",
    "                        'score': scores[j].item(),\n",
    "                    }\n",
    "                    results.append(result)\n",
    "\n",
    "    return results\n",
    "\n",
    "# COCO 평가\n",
    "def evaluate_coco(results, annotation_file):\n",
    "    coco_gt = COCO(annotation_file)\n",
    "    coco_dt = coco_gt.loadRes(results)\n",
    "\n",
    "    coco_eval = COCOeval(coco_gt, coco_dt, 'keypoints')\n",
    "    coco_eval.evaluate()\n",
    "    coco_eval.accumulate()\n",
    "    coco_eval.summarize()\n",
    "\n",
    "# 메인 실행\n",
    "if __name__ == \"__main__\":\n",
    "    model_path = './models/some-model-ep10.pt'  # 모델 경로\n",
    "    annotation_file = './datasets/keypointrcnn_data/labels/val/vert_141.json'  # COCO 주석 파일 경로\n",
    "    image_dir = './datasets/keypointrcnn_data/images/val'  # 이미지 디렉토리 경로\n",
    "    device = torch.device('cuda' if torch.cuda.is_available() else 'cpu')\n",
    "\n",
    "    # 모델 로드\n",
    "    model = load_model(model_path, device)\n",
    "\n",
    "    # 데이터셋 로드 및 DataLoader 생성\n",
    "    coco = load_coco_dataset(annotation_file, image_dir)\n",
    "    data_loader = DataLoader(coco, batch_size=1, shuffle=False)  # Custom Dataset class 필요\n",
    "\n",
    "    # 모델 평가\n",
    "    results = evaluate_keypoint_model(model, data_loader, device)\n",
    "\n",
    "    # COCO 평가\n",
    "    evaluate_coco(results, annotation_file)\n"
   ]
  },
  {
   "cell_type": "code",
   "execution_count": null,
   "metadata": {},
   "outputs": [],
   "source": []
  },
  {
   "cell_type": "code",
   "execution_count": 7,
   "metadata": {},
   "outputs": [],
   "source": [
    "kpoints = [[[1.4180e+03, 4.1982e+03, 1.0000e+00],\n",
    "         [1.4180e+03, 4.3689e+03, 1.0000e+00],\n",
    "         [1.7049e+03, 4.2203e+03, 1.0000e+00],\n",
    "         [1.7049e+03, 4.3689e+03, 1.0000e+00]],\n",
    "\n",
    "        [[1.3931e+03, 4.3948e+03, 1.0000e+00],\n",
    "         [1.3437e+03, 4.5573e+03, 1.0000e+00],\n",
    "         [1.6678e+03, 4.4598e+03, 1.0000e+00],\n",
    "         [1.6074e+03, 4.6169e+03, 1.0000e+00]],\n",
    "\n",
    "        [[1.4166e+03, 4.0069e+03, 1.0000e+00],\n",
    "         [1.4166e+03, 4.1744e+03, 1.0000e+00],\n",
    "         [1.6621e+03, 3.9853e+03, 1.0000e+00],\n",
    "         [1.6949e+03, 4.1420e+03, 1.0000e+00]],\n",
    "\n",
    "        [[1.3656e+03, 3.8282e+03, 1.0000e+00],\n",
    "         [1.3876e+03, 3.9532e+03, 1.0000e+00],\n",
    "         [1.5919e+03, 3.7739e+03, 1.0000e+00],\n",
    "         [1.6416e+03, 3.9151e+03, 1.0000e+00]],\n",
    "\n",
    "        [[1.2760e+03, 3.4278e+03, 1.0000e+00],\n",
    "         [1.2760e+03, 3.5559e+03, 1.0000e+00],\n",
    "         [1.4876e+03, 3.4171e+03, 1.0000e+00],\n",
    "         [1.5147e+03, 3.5345e+03, 1.0000e+00]],\n",
    "\n",
    "        [[1.2928e+03, 3.6122e+03, 1.0000e+00],\n",
    "         [1.3149e+03, 3.7463e+03, 1.0000e+00],\n",
    "         [1.5357e+03, 3.5800e+03, 1.0000e+00],\n",
    "         [1.5688e+03, 3.7034e+03, 1.0000e+00]],\n",
    "\n",
    "        [[1.1678e+03, 4.8866e+03, 1.0000e+00],\n",
    "         [1.1351e+03, 5.1080e+03, 1.0000e+00],\n",
    "         [1.4841e+03, 4.9352e+03, 1.0000e+00],\n",
    "         [1.4569e+03, 5.1080e+03, 1.0000e+00]],\n",
    "\n",
    "        [[1.2922e+03, 3.2618e+03, 1.0000e+00],\n",
    "         [1.2759e+03, 3.3930e+03, 1.0000e+00],\n",
    "         [1.4823e+03, 3.2618e+03, 1.0000e+00],\n",
    "         [1.4986e+03, 3.3930e+03, 1.0000e+00]],\n",
    "\n",
    "        [[1.2791e+03, 4.6445e+03, 1.0000e+00],\n",
    "         [1.2023e+03, 4.8300e+03, 1.0000e+00],\n",
    "         [1.5642e+03, 4.6991e+03, 1.0000e+00],\n",
    "         [1.5203e+03, 4.8955e+03, 1.0000e+00]],\n",
    "\n",
    "        [[1.3836e+03, 3.8334e+03, 1.0000e+00],\n",
    "         [1.3836e+03, 4.0076e+03, 1.0000e+00],\n",
    "         [1.6138e+03, 3.8334e+03, 1.0000e+00],\n",
    "         [1.6522e+03, 3.9314e+03, 1.0000e+00]],\n",
    "\n",
    "        [[1.3145e+03, 3.0959e+03, 1.0000e+00],\n",
    "         [1.2982e+03, 3.2181e+03, 1.0000e+00],\n",
    "         [1.4876e+03, 3.0959e+03, 1.0000e+00],\n",
    "         [1.5039e+03, 3.2181e+03, 1.0000e+00]],\n",
    "\n",
    "        [[1.2874e+03, 4.6403e+03, 1.0000e+00],\n",
    "         [1.2438e+03, 4.8110e+03, 1.0000e+00],\n",
    "         [1.5545e+03, 4.7009e+03, 1.0000e+00],\n",
    "         [1.5273e+03, 4.8110e+03, 1.0000e+00]],\n",
    "\n",
    "        [[1.4263e+03, 4.2266e+03, 1.0000e+00],\n",
    "         [1.4099e+03, 4.3795e+03, 1.0000e+00],\n",
    "         [1.7045e+03, 4.2266e+03, 1.0000e+00],\n",
    "         [1.6881e+03, 4.3959e+03, 1.0000e+00]],\n",
    "\n",
    "        [[1.3766e+03, 4.4296e+03, 1.0000e+00],\n",
    "         [1.3382e+03, 4.5819e+03, 1.0000e+00],\n",
    "         [1.6339e+03, 4.4296e+03, 1.0000e+00],\n",
    "         [1.5682e+03, 4.7451e+03, 1.0000e+00]],\n",
    "\n",
    "        [[1.3572e+03, 3.7970e+03, 1.0000e+00],\n",
    "         [1.3626e+03, 3.8939e+03, 1.0000e+00],\n",
    "         [1.5798e+03, 3.7163e+03, 1.0000e+00],\n",
    "         [1.6124e+03, 3.8939e+03, 1.0000e+00]],\n",
    "\n",
    "        [[1.1604e+03, 4.9862e+03, 1.0000e+00],\n",
    "         [1.1439e+03, 5.1068e+03, 1.0000e+00],\n",
    "         [1.4569e+03, 4.9862e+03, 1.0000e+00],\n",
    "         [1.4569e+03, 5.1397e+03, 1.0000e+00]],\n",
    "\n",
    "        [[1.3968e+03, 3.9966e+03, 1.0000e+00],\n",
    "         [1.3968e+03, 4.0891e+03, 1.0000e+00],\n",
    "         [1.6679e+03, 3.9748e+03, 1.0000e+00],\n",
    "         [1.6841e+03, 4.0891e+03, 1.0000e+00]],\n",
    "\n",
    "        [[1.1141e+03, 5.1566e+03, 1.0000e+00],\n",
    "         [1.1141e+03, 5.2962e+03, 1.0000e+00],\n",
    "         [1.4379e+03, 5.1673e+03, 1.0000e+00],\n",
    "         [1.4543e+03, 5.2962e+03, 1.0000e+00]],\n",
    "\n",
    "        [[1.3178e+03, 3.6308e+03, 1.0000e+00],\n",
    "         [1.3396e+03, 3.8115e+03, 1.0000e+00],\n",
    "         [1.5418e+03, 3.6308e+03, 1.0000e+00],\n",
    "         [1.5692e+03, 3.7184e+03, 1.0000e+00]],\n",
    "\n",
    "        [[1.4245e+03, 4.0614e+03, 1.0000e+00],\n",
    "         [1.4245e+03, 4.2267e+03, 1.0000e+00],\n",
    "         [1.6839e+03, 4.0614e+03, 1.0000e+00],\n",
    "         [1.6949e+03, 4.1551e+03, 1.0000e+00]],\n",
    "\n",
    "        [[1.2275e+03, 4.7352e+03, 1.0000e+00],\n",
    "         [1.1725e+03, 4.9757e+03, 1.0000e+00],\n",
    "         [1.5296e+03, 4.7352e+03, 1.0000e+00],\n",
    "         [1.4856e+03, 4.9757e+03, 1.0000e+00]],\n",
    "\n",
    "        [[1.1141e+03, 5.1842e+03, 1.0000e+00],\n",
    "         [1.1141e+03, 5.3598e+03, 1.0000e+00],\n",
    "         [1.4328e+03, 5.1842e+03, 1.0000e+00],\n",
    "         [1.4603e+03, 5.3214e+03, 1.0000e+00]],\n",
    "\n",
    "        [[1.3086e+03, 2.9253e+03, 1.0000e+00],\n",
    "         [1.3086e+03, 3.0429e+03, 1.0000e+00],\n",
    "         [1.4879e+03, 2.9253e+03, 1.0000e+00],\n",
    "         [1.5042e+03, 3.0429e+03, 1.0000e+00]],\n",
    "\n",
    "        [[1.1752e+03, 4.8830e+03, 1.0000e+00],\n",
    "         [1.1587e+03, 5.0263e+03, 1.0000e+00],\n",
    "         [1.4886e+03, 4.9216e+03, 1.0000e+00],\n",
    "         [1.4666e+03, 5.0263e+03, 1.0000e+00]],\n",
    "\n",
    "        [[1.2805e+03, 2.4859e+03, 1.0000e+00],\n",
    "         [1.2805e+03, 2.5913e+03, 1.0000e+00],\n",
    "         [1.4608e+03, 2.4859e+03, 1.0000e+00],\n",
    "         [1.4772e+03, 2.5913e+03, 1.0000e+00]],\n",
    "\n",
    "        [[1.3049e+03, 3.5983e+03, 1.0000e+00],\n",
    "         [1.2884e+03, 3.6908e+03, 1.0000e+00],\n",
    "         [1.5194e+03, 3.5221e+03, 1.0000e+00],\n",
    "         [1.5524e+03, 3.6908e+03, 1.0000e+00]],\n",
    "\n",
    "        [[1.4172e+03, 4.1058e+03, 1.0000e+00],\n",
    "         [1.4172e+03, 4.2984e+03, 1.0000e+00],\n",
    "         [1.7035e+03, 4.2104e+03, 1.0000e+00],\n",
    "         [1.7145e+03, 4.2984e+03, 1.0000e+00]],\n",
    "\n",
    "        [[1.3005e+03, 2.7665e+03, 1.0000e+00],\n",
    "         [1.3005e+03, 2.8846e+03, 1.0000e+00],\n",
    "         [1.4821e+03, 2.7665e+03, 1.0000e+00],\n",
    "         [1.4986e+03, 2.8846e+03, 1.0000e+00]],\n",
    "\n",
    "        [[1.2884e+03, 2.6117e+03, 1.0000e+00],\n",
    "         [1.2884e+03, 2.7269e+03, 1.0000e+00],\n",
    "         [1.4615e+03, 2.6117e+03, 1.0000e+00],\n",
    "         [1.4886e+03, 2.7269e+03, 1.0000e+00]],\n",
    "\n",
    "        [[1.2767e+03, 2.5228e+03, 1.0000e+00],\n",
    "         [1.2767e+03, 2.6337e+03, 1.0000e+00],\n",
    "         [1.4607e+03, 2.5228e+03, 1.0000e+00],\n",
    "         [1.4607e+03, 2.5967e+03, 1.0000e+00]],\n",
    "\n",
    "        [[1.2710e+03, 3.3230e+03, 1.0000e+00],\n",
    "         [1.2710e+03, 3.4677e+03, 1.0000e+00],\n",
    "         [1.4885e+03, 3.3230e+03, 1.0000e+00],\n",
    "         [1.5102e+03, 3.4677e+03, 1.0000e+00]],\n",
    "\n",
    "        [[1.2915e+03, 2.6524e+03, 1.0000e+00],\n",
    "         [1.2915e+03, 2.7680e+03, 1.0000e+00],\n",
    "         [1.4759e+03, 2.6524e+03, 1.0000e+00],\n",
    "         [1.4921e+03, 2.7680e+03, 1.0000e+00]],\n",
    "\n",
    "        [[1.2960e+03, 3.2453e+03, 1.0000e+00],\n",
    "         [1.2850e+03, 3.3387e+03, 1.0000e+00],\n",
    "         [1.4932e+03, 3.2617e+03, 1.0000e+00],\n",
    "         [1.5042e+03, 3.3387e+03, 1.0000e+00]],\n",
    "\n",
    "        [[1.1073e+03, 5.2434e+03, 1.0000e+00],\n",
    "         [1.1292e+03, 5.3975e+03, 1.0000e+00],\n",
    "         [1.4520e+03, 5.2214e+03, 1.0000e+00],\n",
    "         [1.4848e+03, 5.3755e+03, 1.0000e+00]],\n",
    "\n",
    "        [[1.2851e+03, 3.1513e+03, 1.0000e+00],\n",
    "         [1.2851e+03, 3.2826e+03, 1.0000e+00],\n",
    "         [1.4912e+03, 3.1513e+03, 1.0000e+00],\n",
    "         [1.5075e+03, 3.2826e+03, 1.0000e+00]],\n",
    "\n",
    "        [[1.2929e+03, 2.7215e+03, 1.0000e+00],\n",
    "         [1.2929e+03, 2.8405e+03, 1.0000e+00],\n",
    "         [1.4774e+03, 2.7215e+03, 1.0000e+00],\n",
    "         [1.4936e+03, 2.8405e+03, 1.0000e+00]],\n",
    "\n",
    "        [[1.2823e+03, 2.4486e+03, 1.0000e+00],\n",
    "         [1.2823e+03, 2.5500e+03, 1.0000e+00],\n",
    "         [1.4635e+03, 2.4753e+03, 1.0000e+00],\n",
    "         [1.4800e+03, 2.5500e+03, 1.0000e+00]],\n",
    "\n",
    "        [[1.2849e+03, 2.5732e+03, 1.0000e+00],\n",
    "         [1.2849e+03, 2.6817e+03, 1.0000e+00],\n",
    "         [1.4687e+03, 2.5732e+03, 1.0000e+00],\n",
    "         [1.4849e+03, 2.6817e+03, 1.0000e+00]],\n",
    "\n",
    "        [[1.3008e+03, 2.8278e+03, 1.0000e+00],\n",
    "         [1.3008e+03, 2.9468e+03, 1.0000e+00],\n",
    "         [1.4897e+03, 2.8278e+03, 1.0000e+00],\n",
    "         [1.5059e+03, 2.9468e+03, 1.0000e+00]],\n",
    "\n",
    "        [[1.3031e+03, 2.8783e+03, 1.0000e+00],\n",
    "         [1.3031e+03, 2.9978e+03, 1.0000e+00],\n",
    "         [1.4915e+03, 2.8783e+03, 1.0000e+00],\n",
    "         [1.5077e+03, 2.9978e+03, 1.0000e+00]],\n",
    "\n",
    "        [[1.2842e+03, 2.8949e+03, 1.0000e+00],\n",
    "         [1.2842e+03, 3.1053e+03, 1.0000e+00],\n",
    "         [1.4927e+03, 2.8949e+03, 1.0000e+00],\n",
    "         [1.5037e+03, 3.0675e+03, 1.0000e+00]],\n",
    "\n",
    "        [[1.3014e+03, 3.0323e+03, 1.0000e+00],\n",
    "         [1.3014e+03, 3.1602e+03, 1.0000e+00],\n",
    "         [1.4958e+03, 3.0323e+03, 1.0000e+00],\n",
    "         [1.5121e+03, 3.1602e+03, 1.0000e+00]],\n",
    "\n",
    "        [[1.2590e+03, 2.5839e+03, 1.0000e+00],\n",
    "         [1.2590e+03, 2.8007e+03, 1.0000e+00],\n",
    "         [1.4707e+03, 2.5839e+03, 1.0000e+00],\n",
    "         [1.5087e+03, 2.8007e+03, 1.0000e+00]],\n",
    "\n",
    "        [[1.2702e+03, 2.7575e+03, 1.0000e+00],\n",
    "         [1.2702e+03, 2.9730e+03, 1.0000e+00],\n",
    "         [1.4878e+03, 2.7575e+03, 1.0000e+00],\n",
    "         [1.5150e+03, 2.9730e+03, 1.0000e+00]],\n",
    "\n",
    "        [[1.2972e+03, 2.3661e+03, 1.0000e+00],\n",
    "         [1.2586e+03, 2.5806e+03, 1.0000e+00],\n",
    "         [1.4900e+03, 2.3661e+03, 1.0000e+00],\n",
    "         [1.4790e+03, 2.5806e+03, 1.0000e+00]],\n",
    "\n",
    "        [[1.2738e+03, 2.6654e+03, 1.0000e+00],\n",
    "         [1.2738e+03, 2.8843e+03, 1.0000e+00],\n",
    "         [1.4808e+03, 2.6654e+03, 1.0000e+00],\n",
    "         [1.4971e+03, 2.8843e+03, 1.0000e+00]],\n",
    "\n",
    "        [[1.3087e+03, 3.0899e+03, 1.0000e+00],\n",
    "         [1.2763e+03, 3.2654e+03, 1.0000e+00],\n",
    "         [1.5033e+03, 3.0844e+03, 1.0000e+00],\n",
    "         [1.4979e+03, 3.2654e+03, 1.0000e+00]],\n",
    "\n",
    "        [[1.2800e+03, 2.4453e+03, 1.0000e+00],\n",
    "         [1.2637e+03, 2.6645e+03, 1.0000e+00],\n",
    "         [1.4646e+03, 2.4453e+03, 1.0000e+00],\n",
    "         [1.4808e+03, 2.6645e+03, 1.0000e+00]],\n",
    "\n",
    "        [[1.2861e+03, 2.2898e+03, 1.0000e+00],\n",
    "         [1.2640e+03, 2.4539e+03, 1.0000e+00],\n",
    "         [1.5230e+03, 2.2898e+03, 1.0000e+00],\n",
    "         [1.4900e+03, 2.4539e+03, 1.0000e+00]],\n",
    "\n",
    "        [[1.1401e+03, 5.0056e+03, 1.0000e+00],\n",
    "         [1.1071e+03, 5.3358e+03, 1.0000e+00],\n",
    "         [1.4755e+03, 5.0056e+03, 1.0000e+00],\n",
    "         [1.4645e+03, 5.1652e+03, 1.0000e+00]],\n",
    "\n",
    "        [[1.2757e+03, 3.4033e+03, 1.0000e+00],\n",
    "         [1.2757e+03, 3.5731e+03, 1.0000e+00],\n",
    "         [1.4946e+03, 3.3266e+03, 1.0000e+00],\n",
    "         [1.5110e+03, 3.5512e+03, 1.0000e+00]]]"
   ]
  },
  {
   "cell_type": "code",
   "execution_count": 8,
   "metadata": {},
   "outputs": [
    {
     "name": "stdout",
     "output_type": "stream",
     "text": [
      "51\n",
      "4\n",
      "3\n"
     ]
    }
   ],
   "source": [
    "print(len(kpoints))\n",
    "print(len(kpoints[0]))\n",
    "print(len(kpoints[0][0]))"
   ]
  },
  {
   "cell_type": "code",
   "execution_count": 9,
   "metadata": {},
   "outputs": [],
   "source": [
    "predkp = [[[1.3190e+03, 2.2000e+03, 1.0000e+00],\n",
    "         [1.3040e+03, 2.3080e+03, 1.0000e+00],\n",
    "         [1.5150e+03, 2.2330e+03, 1.0000e+00],\n",
    "         [1.4920e+03, 2.3320e+03, 1.0000e+00]],\n",
    "\n",
    "        [[1.3080e+03, 2.3340e+03, 1.0000e+00],\n",
    "         [1.2730e+03, 2.4350e+03, 1.0000e+00],\n",
    "         [1.4780e+03, 2.3460e+03, 1.0000e+00],\n",
    "         [1.4690e+03, 2.4510e+03, 1.0000e+00]],\n",
    "\n",
    "        [[1.2880e+03, 2.4620e+03, 1.0000e+00],\n",
    "         [1.2790e+03, 2.5900e+03, 1.0000e+00],\n",
    "         [1.4620e+03, 2.4720e+03, 1.0000e+00],\n",
    "         [1.4590e+03, 2.5880e+03, 1.0000e+00]],\n",
    "\n",
    "        [[1.2970e+03, 2.6110e+03, 1.0000e+00],\n",
    "         [1.2840e+03, 2.7330e+03, 1.0000e+00],\n",
    "         [1.4550e+03, 2.6120e+03, 1.0000e+00],\n",
    "         [1.4590e+03, 2.7160e+03, 1.0000e+00]],\n",
    "\n",
    "        [[1.2880e+03, 2.7540e+03, 1.0000e+00],\n",
    "         [1.3010e+03, 2.8890e+03, 1.0000e+00],\n",
    "         [1.4740e+03, 2.7460e+03, 1.0000e+00],\n",
    "         [1.4940e+03, 2.8720e+03, 1.0000e+00]],\n",
    "\n",
    "        [[1.3150e+03, 2.9200e+03, 1.0000e+00],\n",
    "         [1.3120e+03, 3.0640e+03, 1.0000e+00],\n",
    "         [1.4950e+03, 2.9140e+03, 1.0000e+00],\n",
    "         [1.5090e+03, 3.0710e+03, 1.0000e+00]],\n",
    "\n",
    "        [[1.3070e+03, 3.0870e+03, 1.0000e+00],\n",
    "         [1.2840e+03, 3.2230e+03, 1.0000e+00],\n",
    "         [1.5120e+03, 3.0890e+03, 1.0000e+00],\n",
    "         [1.4980e+03, 3.2440e+03, 1.0000e+00]],\n",
    "\n",
    "        [[1.2900e+03, 3.2480e+03, 1.0000e+00],\n",
    "         [1.2750e+03, 3.3920e+03, 1.0000e+00],\n",
    "         [1.4920e+03, 3.2660e+03, 1.0000e+00],\n",
    "         [1.4990e+03, 3.3920e+03, 1.0000e+00]],\n",
    "\n",
    "        [[1.2820e+03, 3.4290e+03, 1.0000e+00],\n",
    "         [1.2850e+03, 3.5880e+03, 1.0000e+00],\n",
    "         [1.4900e+03, 3.4270e+03, 1.0000e+00],\n",
    "         [1.5190e+03, 3.5460e+03, 1.0000e+00]],\n",
    "\n",
    "        [[1.3070e+03, 3.6210e+03, 1.0000e+00],\n",
    "         [1.3330e+03, 3.7770e+03, 1.0000e+00],\n",
    "         [1.5290e+03, 3.5840e+03, 1.0000e+00],\n",
    "         [1.5680e+03, 3.7180e+03, 1.0000e+00]],\n",
    "\n",
    "        [[1.3660e+03, 3.8150e+03, 1.0000e+00],\n",
    "         [1.4030e+03, 3.9670e+03, 1.0000e+00],\n",
    "         [1.5880e+03, 3.7520e+03, 1.0000e+00],\n",
    "         [1.6440e+03, 3.9040e+03, 1.0000e+00]],\n",
    "\n",
    "        [[1.4180e+03, 4.0070e+03, 1.0000e+00],\n",
    "         [1.4160e+03, 4.1710e+03, 1.0000e+00],\n",
    "         [1.6630e+03, 3.9710e+03, 1.0000e+00],\n",
    "         [1.7000e+03, 4.1430e+03, 1.0000e+00]],\n",
    "\n",
    "        [[1.4430e+03, 4.2060e+03, 1.0000e+00],\n",
    "         [1.4020e+03, 4.3610e+03, 1.0000e+00],\n",
    "         [1.7070e+03, 4.2170e+03, 1.0000e+00],\n",
    "         [1.6910e+03, 4.4130e+03, 1.0000e+00]],\n",
    "\n",
    "        [[1.4010e+03, 4.4020e+03, 1.0000e+00],\n",
    "         [1.3320e+03, 4.5690e+03, 1.0000e+00],\n",
    "         [1.6660e+03, 4.4890e+03, 1.0000e+00],\n",
    "         [1.5930e+03, 4.6730e+03, 1.0000e+00]],\n",
    "\n",
    "        [[1.3010e+03, 4.6370e+03, 1.0000e+00],\n",
    "         [1.2160e+03, 4.8080e+03, 1.0000e+00],\n",
    "         [1.5670e+03, 4.7290e+03, 1.0000e+00],\n",
    "         [1.5060e+03, 4.9120e+03, 1.0000e+00]],\n",
    "\n",
    "        [[1.1790e+03, 4.8950e+03, 1.0000e+00],\n",
    "         [1.1390e+03, 5.1040e+03, 1.0000e+00],\n",
    "         [1.4800e+03, 4.9460e+03, 1.0000e+00],\n",
    "         [1.4670e+03, 5.1520e+03, 1.0000e+00]],\n",
    "\n",
    "        [[1.1350e+03, 5.1730e+03, 1.0000e+00],\n",
    "         [1.1050e+03, 5.3930e+03, 1.0000e+00],\n",
    "         [1.4410e+03, 5.1820e+03, 1.0000e+00],\n",
    "         [1.4830e+03, 5.3690e+03, 1.0000e+00]]]"
   ]
  },
  {
   "cell_type": "code",
   "execution_count": 10,
   "metadata": {},
   "outputs": [
    {
     "name": "stdout",
     "output_type": "stream",
     "text": [
      "17\n",
      "4\n",
      "3\n"
     ]
    }
   ],
   "source": [
    "print(len(predkp))\n",
    "print(len(predkp[0]))\n",
    "print(len(predkp[0][0]))"
   ]
  },
  {
   "cell_type": "code",
   "execution_count": 12,
   "metadata": {},
   "outputs": [
    {
     "ename": "AttributeError",
     "evalue": "'list' object has no attribute 'size'",
     "output_type": "error",
     "traceback": [
      "\u001b[1;31m---------------------------------------------------------------------------\u001b[0m",
      "\u001b[1;31mAttributeError\u001b[0m                            Traceback (most recent call last)",
      "Cell \u001b[1;32mIn[12], line 1\u001b[0m\n\u001b[1;32m----> 1\u001b[0m \u001b[43mpredkp\u001b[49m\u001b[38;5;241;43m.\u001b[39;49m\u001b[43msize\u001b[49m(\u001b[38;5;241m1\u001b[39m)\n",
      "\u001b[1;31mAttributeError\u001b[0m: 'list' object has no attribute 'size'"
     ]
    }
   ],
   "source": [
    "predkp.size(1)"
   ]
  },
  {
   "cell_type": "code",
   "execution_count": null,
   "metadata": {},
   "outputs": [],
   "source": []
  }
 ],
 "metadata": {
  "kernelspec": {
   "display_name": "scoliosis",
   "language": "python",
   "name": "python3"
  },
  "language_info": {
   "codemirror_mode": {
    "name": "ipython",
    "version": 3
   },
   "file_extension": ".py",
   "mimetype": "text/x-python",
   "name": "python",
   "nbconvert_exporter": "python",
   "pygments_lexer": "ipython3",
   "version": "3.10.15"
  }
 },
 "nbformat": 4,
 "nbformat_minor": 2
}
